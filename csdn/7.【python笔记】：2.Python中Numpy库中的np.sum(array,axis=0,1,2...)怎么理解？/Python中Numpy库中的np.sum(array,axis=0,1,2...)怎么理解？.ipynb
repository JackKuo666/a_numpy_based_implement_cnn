{
 "cells": [
  {
   "cell_type": "markdown",
   "metadata": {},
   "source": [
    "参考：https://segmentfault.com/q/1010000010111006"
   ]
  },
  {
   "cell_type": "markdown",
   "metadata": {},
   "source": [
    "# 1.Python中Numpy库中的np.sum(array,axis=0,1,2...)怎么理解？"
   ]
  },
  {
   "cell_type": "code",
   "execution_count": 1,
   "metadata": {},
   "outputs": [
    {
     "name": "stdout",
     "output_type": "stream",
     "text": [
      "构造一个[4 3 2]的三维数组：\n",
      "[[[ 0  1]\n",
      "  [ 2  3]\n",
      "  [ 4  5]]\n",
      "\n",
      " [[ 6  7]\n",
      "  [ 8  9]\n",
      "  [10 11]]\n",
      "\n",
      " [[12 13]\n",
      "  [14 15]\n",
      "  [16 17]]\n",
      "\n",
      " [[18 19]\n",
      "  [20 21]\n",
      "  [22 23]]]\n",
      "\n",
      "1.数组的第一维相加之和是：\n",
      "[[36 40]\n",
      " [44 48]\n",
      " [52 56]]\n",
      "我们看到36是0+6+12+18得到的，40是1+7+13+19得到的。所以可以总结为：axis = 0 时，是4个[3 2]二维数组对应位置相加。\n",
      "\n",
      "2.数组的第二维相加之和是：\n",
      "[[ 6  9]\n",
      " [24 27]\n",
      " [42 45]\n",
      " [60 63]]\n",
      "我们看到6是0+2+4得到的，9是1+3+5得到的。所以可以总结为：axis = 1时，是[4 3 2]中第二维的3个3个相加，在这里我们可以理解为0 2 4是三行，那么就是3行相加。\n",
      "\n",
      "3.数组的第三维相加之和是:\n",
      "[[ 1  5  9]\n",
      " [13 17 21]\n",
      " [25 29 33]\n",
      " [37 41 45]]\n",
      "我们看到1是0+1得到的，5是2+3得到的。所以可以总结为：axis = 2时，是[4 3 2]中的第三维的2个2个相加，在这里我们可以理解为0 1 是两列，那么就是2列相加\n"
     ]
    }
   ],
   "source": [
    "import numpy as np\n",
    "abc = np.arange(0,24,1).reshape(4,3,2)\n",
    "print (\"构造一个[4 3 2]的三维数组：\")\n",
    "print (abc)\n",
    "\n",
    "print (\"\\n1.数组的第一维相加之和是：\")\n",
    "print (np.sum(abc, axis=(0, )))\n",
    "print (\"我们看到36是0+6+12+18得到的，40是1+7+13+19得到的。所以可以总结为：axis = 0 时，是4个[3 2]二维数组对应位置相加。\")\n",
    "\n",
    "print (\"\\n2.数组的第二维相加之和是：\")\n",
    "print (np.sum(abc, axis = (1,)))\n",
    "print (\"我们看到6是0+2+4得到的，9是1+3+5得到的。所以可以总结为：axis = 1时，是[4 3 2]中第二维的3个3个相加，在这里我们可以理解为0 2 4是三行，那么就是3行相加。\")\n",
    "\n",
    "print (\"\\n3.数组的第三维相加之和是:\")\n",
    "print (np.sum(abc, axis = (2,)))\n",
    "print (\"我们看到1是0+1得到的，5是2+3得到的。所以可以总结为：axis = 2时，是[4 3 2]中的第三维的2个2个相加，在这里我们可以理解为0 1 是两列，那么就是2列相加\")"
   ]
  },
  {
   "cell_type": "markdown",
   "metadata": {},
   "source": [
    " # 2.Python中Numpy库中的np.sum(array,axis=(0,1,2))怎么理解？"
   ]
  },
  {
   "cell_type": "code",
   "execution_count": 9,
   "metadata": {},
   "outputs": [
    {
     "name": "stdout",
     "output_type": "stream",
     "text": [
      "构造一个[4 3 2]的三维数组A是：\n",
      "[[[ 0  1]\n",
      "  [ 2  3]\n",
      "  [ 4  5]]\n",
      "\n",
      " [[ 6  7]\n",
      "  [ 8  9]\n",
      "  [10 11]]\n",
      "\n",
      " [[12 13]\n",
      "  [14 15]\n",
      "  [16 17]]\n",
      "\n",
      " [[18 19]\n",
      "  [20 21]\n",
      "  [22 23]]]\n",
      "\n",
      "1.数组的第一维相加之和B是：\n",
      "[[36 40]\n",
      " [44 48]\n",
      " [52 56]]\n",
      "\n",
      "2.数组B的第二维相加之和C是：\n",
      "[ 76  92 108]\n",
      "\n",
      "3.数组A的第一维先相加，之后再第三维相加D：\n",
      "[ 76  92 108]\n",
      "\n",
      "对比说明：axis=（0,2）表示将数组A[4 3 2]的第一维先相加，相加之后，变成数组B[3,2]，A的第三维是大小是2，在B里边变成第二维了,所以B[3 2]第二维相加变成C[3,]。这里我们分步求和得到的C和一步求和的到的D是一致的，证明我们猜想正确。\n"
     ]
    }
   ],
   "source": [
    "import numpy as np\n",
    "abc = np.arange(0,24,1).reshape(4,3,2)\n",
    "print (\"构造一个[4 3 2]的三维数组A是：\")\n",
    "print (abc)\n",
    "print (\"\\n1.数组的第一维相加之和B是：\")\n",
    "d = np.sum(abc, axis=(0, ))\n",
    "print (d)\n",
    "e = np.sum(d, axis=(1, ))\n",
    "print (\"\\n2.数组B的第二维相加之和C是：\")\n",
    "print (e)\n",
    "print(\"\\n3.数组A的第一维先相加，之后再第三维相加D：\")\n",
    "print (np.sum(abc, axis=(0, 2)))\n",
    "print (\"\\n对比说明：axis=（0,2）表示将数组A[4 3 2]的第一维先相加，\\\n",
    "相加之后，变成数组B[3,2]，A的第三维是大小是2，在B里边变成第二维了,所以B[3 2]第二维相加变成C[3,]。\\\n",
    "这里我们分步求和得到的C和一步求和的到的D是一致的，证明我们猜想正确。\")"
   ]
  },
  {
   "cell_type": "code",
   "execution_count": null,
   "metadata": {},
   "outputs": [],
   "source": []
  },
  {
   "cell_type": "code",
   "execution_count": null,
   "metadata": {},
   "outputs": [],
   "source": []
  },
  {
   "cell_type": "code",
   "execution_count": null,
   "metadata": {},
   "outputs": [],
   "source": []
  }
 ],
 "metadata": {
  "kernelspec": {
   "display_name": "Python 3",
   "language": "python",
   "name": "python3"
  },
  "language_info": {
   "codemirror_mode": {
    "name": "ipython",
    "version": 3
   },
   "file_extension": ".py",
   "mimetype": "text/x-python",
   "name": "python",
   "nbconvert_exporter": "python",
   "pygments_lexer": "ipython3",
   "version": "3.6.6"
  }
 },
 "nbformat": 4,
 "nbformat_minor": 2
}
