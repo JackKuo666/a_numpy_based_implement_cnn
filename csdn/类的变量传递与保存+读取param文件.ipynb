{
 "cells": [
  {
   "cell_type": "markdown",
   "metadata": {},
   "source": [
    "# 1. python（类和对象之保存数据到本地）"
   ]
  },
  {
   "cell_type": "code",
   "execution_count": 1,
   "metadata": {},
   "outputs": [
    {
     "name": "stdout",
     "output_type": "stream",
     "text": [
      "['李四']\n",
      "['李四', '豆豆']\n",
      "李四\n",
      "豆豆\n"
     ]
    }
   ],
   "source": [
    "#声明一个类型\n",
    "class People(object):\n",
    "    #类变量\n",
    "    file_name = 'student.txt'\n",
    "    def __init__(self,name,school):\n",
    "        self.name = name\n",
    "        self.school = school\n",
    "        #属性可以是列表\n",
    "        self.pdc = []\n",
    "        #属性也可以是字典\n",
    "        self.pdc_dict = {}\n",
    "    #保存数据的函数\n",
    "    def save_data(self):\n",
    "        #1.打开文件\n",
    "        f = open(self.file_name,'a',encoding='utf-8')\n",
    "        #2.写入数据\n",
    "        f.write(self.name)\n",
    "        f.write(';')\n",
    "        f.write(self.school)\n",
    "        f.write('\\n---->')\n",
    "        #将所有的前任名称拼接成一个字符串\n",
    "        pdc_str = ' '.join(self.pdc)\n",
    "        f.write(pdc_str)\n",
    "        f.write('\\n')\n",
    "        #3.关闭文件\n",
    "        f.close()\n",
    "People.file_name = 'stu.txt'\n",
    "#创建一个People对象\n",
    "#对象有保存信息到本地的函数\n",
    "p1 = People('张三','智游')\n",
    "# p1.save_data()\n",
    "p2 = People('李四','智游')\n",
    "# p1.save_data()\n",
    "# 获取对象的属性值，这个属性值是一个列表\n",
    "p1.pdc.append(p2.name)\n",
    "print(p1.pdc)\n",
    " \n",
    "p3 = People('豆豆','智游')\n",
    "# p1.pdc是一个列表，列表的增删改查都可以正常操作\n",
    "p1.pdc.append(p3.name)\n",
    "print(p1.pdc)\n",
    "# 遍历p1的所有前任名称\n",
    "for name in p1.pdc:\n",
    "    print(name)\n",
    "p1.save_data()"
   ]
  },
  {
   "cell_type": "markdown",
   "metadata": {},
   "source": [
    "# 2.类变量传递？（需要再看）"
   ]
  },
  {
   "cell_type": "code",
   "execution_count": 15,
   "metadata": {},
   "outputs": [
    {
     "name": "stdout",
     "output_type": "stream",
     "text": [
      "0\n",
      "1\n",
      "jack 3 10\n",
      "lucy 3\n"
     ]
    }
   ],
   "source": [
    "class Test(object):  \n",
    "    num_of_instance = 0  \n",
    "    def __init__(self, name):  \n",
    "        self.name = name  #实例变量\n",
    "        self.w = 10\n",
    "        Test.num_of_instance += 1 #类变量 \n",
    "    def ok(self):\n",
    "        w = 100\n",
    "  \n",
    "if __name__ == '__main__':  \n",
    "    print (Test.num_of_instance)  \n",
    "    t1 = Test('jack')  \n",
    "    print (Test.num_of_instance)  \n",
    "    t2 = Test('lucy')\n",
    "  \n",
    "   \n",
    "    print (t1.name , t1.num_of_instance,t1.w,)  \n",
    "    print (t2.name , t2.num_of_instance)"
   ]
  },
  {
   "cell_type": "markdown",
   "metadata": {},
   "source": [
    "# bool变量的计算"
   ]
  },
  {
   "cell_type": "code",
   "execution_count": 14,
   "metadata": {},
   "outputs": [
    {
     "name": "stdout",
     "output_type": "stream",
     "text": [
      "[ 1.  1.  1.  1.  1.  1.  1.  1.  1.]\n",
      "[ 0.  0.  0.  0.  0.  0.  0.  0.  0.]\n",
      "[0 1 2 3 4 5 6 7 8]\n",
      "[False False False False False False False False False]\n",
      "0\n",
      "1\n"
     ]
    }
   ],
   "source": [
    "import numpy as np\n",
    "print (np.ones(9))\n",
    "print (np.zeros(9))\n",
    "print (np.arange(9))\n",
    "a = np.ones(9)==np.zeros(9)\n",
    "b = np.arange(9)==np.zeros(9)\n",
    "print (a)\n",
    "c = np.sum(np.ones(9)==np.zeros(9))\n",
    "d = np.sum(np.arange(9)==np.zeros(9))\n",
    "print (c)\n",
    "print (d)"
   ]
  },
  {
   "cell_type": "markdown",
   "metadata": {},
   "source": [
    "# list的append"
   ]
  },
  {
   "cell_type": "code",
   "execution_count": 26,
   "metadata": {},
   "outputs": [
    {
     "name": "stdout",
     "output_type": "stream",
     "text": [
      "Updated List :  [123, 'xyz', 'zara', 'abc', 2009]\n",
      "5\n"
     ]
    }
   ],
   "source": [
    "#!/usr/bin/python\n",
    "\n",
    "aList = []\n",
    "aList.append( 2009 )\n",
    "aList = [123, 'xyz', 'zara', 'abc']\n",
    "aList.append( 2009 )\n",
    "print (\"Updated List : \", aList)\n",
    "print (len(aList))"
   ]
  },
  {
   "cell_type": "markdown",
   "metadata": {},
   "source": [
    "# 使用pickle增量存取数组，list等\n"
   ]
  },
  {
   "cell_type": "code",
   "execution_count": 125,
   "metadata": {},
   "outputs": [],
   "source": [
    "import pickle\n",
    "data1 = np.arange(9).reshape(3,3)\n",
    "data2 = np.arange(8).reshape(2,4)\n",
    "\n",
    "output = open('./data.pkl', 'wb')\n",
    "\n",
    "# Pickle dictionary using protocol 0.\n",
    "pickle.dump(data1, output)\n",
    "pickle.dump(data2, output)\n",
    "\n",
    "output.close()"
   ]
  },
  {
   "cell_type": "code",
   "execution_count": 137,
   "metadata": {},
   "outputs": [
    {
     "name": "stdout",
     "output_type": "stream",
     "text": [
      "[[0 1 2]\n",
      " [3 4 5]\n",
      " [6 7 8]]\n",
      "\n",
      "\n",
      "[[0 1 2 3]\n",
      " [4 5 6 7]]\n",
      "\n",
      "\n"
     ]
    }
   ],
   "source": [
    "import pickle\n",
    "\n",
    "pkl_file = open('./data.pkl', 'rb')\n",
    "\n",
    "for i in range(0,2):                #注意：pickle存储可以增量存储，但是读取时不是一下子读出来的，而是按顺序一个一个读取        \n",
    "    data_pkl = pickle.load(pkl_file)\n",
    "    print(data_pkl)\n",
    "    print (\"\\n\")\n",
    "\n",
    "pkl_file.close()"
   ]
  },
  {
   "cell_type": "markdown",
   "metadata": {},
   "source": [
    "# 数组与list相互转换"
   ]
  },
  {
   "cell_type": "code",
   "execution_count": 124,
   "metadata": {},
   "outputs": [
    {
     "name": "stdout",
     "output_type": "stream",
     "text": [
      "4\n",
      "[  3.234  34.      3.777   6.33 ]\n",
      "4\n"
     ]
    }
   ],
   "source": [
    "#a为python的list类型\n",
    "a=([3.234,34,3.777,6.33])\n",
    "\n",
    "# list 用len（a）查看长度\n",
    "print(len(a))\n",
    "\n",
    "#将a转化为numpy的array:  \n",
    "print (np.array(a))\n",
    "\n",
    "# c 是array\n",
    "c = np.array([  3.234,  34.   ,   3.777,   6.33 ])\n",
    "\n",
    "\n",
    "#将a转化为python的list\n",
    "print (len(c.tolist()))"
   ]
  },
  {
   "cell_type": "code",
   "execution_count": 11,
   "metadata": {},
   "outputs": [
    {
     "name": "stdout",
     "output_type": "stream",
     "text": [
      "[[[[0 1 2]\n",
      "   [3 4 5]\n",
      "   [6 7 8]]]]\n",
      "(1, 1, 3, 3)\n"
     ]
    }
   ],
   "source": [
    "import numpy as np\n",
    "a = np.arange(9).reshape(1,1,3,3)\n",
    "print (a)\n",
    "print (a.shape)"
   ]
  },
  {
   "cell_type": "code",
   "execution_count": null,
   "metadata": {},
   "outputs": [],
   "source": []
  }
 ],
 "metadata": {
  "kernelspec": {
   "display_name": "Python 3",
   "language": "python",
   "name": "python3"
  },
  "language_info": {
   "codemirror_mode": {
    "name": "ipython",
    "version": 3
   },
   "file_extension": ".py",
   "mimetype": "text/x-python",
   "name": "python",
   "nbconvert_exporter": "python",
   "pygments_lexer": "ipython3",
   "version": "3.6.6"
  }
 },
 "nbformat": 4,
 "nbformat_minor": 2
}
