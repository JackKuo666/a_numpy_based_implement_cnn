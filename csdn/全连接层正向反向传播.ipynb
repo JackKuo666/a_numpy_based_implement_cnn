{
 "cells": [
  {
   "cell_type": "markdown",
   "metadata": {},
   "source": [
    "# 1.全连接层：正向传播，随机初始化w，b"
   ]
  },
  {
   "cell_type": "code",
   "execution_count": 2,
   "metadata": {},
   "outputs": [
    {
     "name": "stdout",
     "output_type": "stream",
     "text": [
      "上层输出是2个batch，每个batch有5个向量：\n",
      "[[ 1  2  3  4  5]\n",
      " [ 6  7  8  9 10]]\n",
      "\n",
      "随机初始化w的参数的shape是：\n",
      "(5, 3)\n",
      "\n",
      "随机初始化w的参数是：\n",
      "[[  8.94771561e-05   1.79349165e-05  -1.45893465e-04]\n",
      " [  2.03269312e-04   3.02177958e-04   9.09080278e-05]\n",
      " [  1.18603291e-05  -5.41043823e-05  -1.01244815e-04]\n",
      " [ -1.36838714e-04  -2.23499705e-04  -7.65339667e-05]\n",
      " [ -4.10437478e-05   6.55004715e-05  -7.37103695e-05]]\n",
      "\n",
      "随机初始化b的参数的shape是：\n",
      "(3,)\n",
      "\n",
      "随机初始化b的参数是：\n",
      "[ 0.  0.  0.]\n",
      "\n",
      "全连接之后输出层的shape是：\n",
      "(2, 3)\n",
      "\n",
      "全连接之后输出是：\n",
      "[[-0.00022098 -0.00010652 -0.0009425 ]\n",
      " [ 0.00041264  0.00043353 -0.00247487]]\n"
     ]
    }
   ],
   "source": [
    "# 全连接层：正向传播\n",
    "import numpy as np\n",
    "x = np.arange(1,11,1).reshape(2,5)\n",
    "print (\"上层输出是2个batch，每个batch有5个向量：\\n\" + str(x))\n",
    "\n",
    "std = 1e-4\n",
    "ww = std * np.random.randn(5,3)\n",
    "bb = std * np.zeros(3)\n",
    "print (\"\\n随机初始化w的参数的shape是：\\n\" + str(ww.shape))\n",
    "print (\"\\n随机初始化w的参数是：\\n\" + str(ww))\n",
    "print (\"\\n随机初始化b的参数的shape是：\\n\" + str(bb.shape))\n",
    "print (\"\\n随机初始化b的参数是：\\n\" + str(bb))\n",
    "a = x.dot(ww) + bb\n",
    "print (\"\\n全连接之后输出层的shape是：\\n\" + str(a.shape))\n",
    "print (\"\\n全连接之后输出是：\\n\" + str(a))\n",
    "\n"
   ]
  },
  {
   "cell_type": "markdown",
   "metadata": {},
   "source": [
    "# 2.全连接，反向传播"
   ]
  },
  {
   "cell_type": "code",
   "execution_count": 3,
   "metadata": {},
   "outputs": [
    {
     "name": "stdout",
     "output_type": "stream",
     "text": [
      "假设下层传过来的loss是：\n",
      "[[ 0.   0.2  0.4]\n",
      " [ 0.6  0.8  1. ]]\n",
      "\n",
      "1.对上层的输出求导值的shape：\n",
      "(2, 5)\n",
      "\n",
      "对上层的输出求导：\n",
      "[[ -5.47704027e-05   9.67988027e-05  -5.13188025e-05  -7.53135276e-05\n",
      "   -1.63840535e-05]\n",
      " [ -7.78592381e-05   4.54611981e-04  -1.37412123e-04  -3.37436959e-04\n",
      "   -4.59362410e-05]]\n",
      "\n",
      "2.对权重系数W求导之后更新的W值的shape：\n",
      "(5, 3)\n",
      "\n",
      "对权重系数W求导之后更新的W：\n",
      "[[-0.03591052 -0.04998207 -0.06414589]\n",
      " [-0.04179673 -0.05969782 -0.07790909]\n",
      " [-0.04798814 -0.0700541  -0.09210124]\n",
      " [-0.05413684 -0.0802235  -0.10607653]\n",
      " [-0.06004104 -0.0899345  -0.12007371]]\n",
      "\n",
      "3.对偏置系数b求导之后更新的b值的shape：\n",
      "(3,)\n",
      "\n",
      "对偏置系数b求导之后更新的b：\n",
      "[-0.006 -0.01  -0.014]\n"
     ]
    }
   ],
   "source": [
    "# 1.对上一层的输出（即当前层的输入）求导\n",
    "loss = np.arange(0,1.2,0.2).reshape(2,3)\n",
    "print (\"假设下层传过来的loss是：\\n\" + str(loss))\n",
    "residual_x = loss.dot(ww.T)\n",
    "print (\"\\n1.对上层的输出求导值的shape：\\n\" + str(residual_x.shape))\n",
    "print (\"\\n对上层的输出求导：\\n\" + str(residual_x))\n",
    "\n",
    "\n",
    "\n",
    "# 2.对权重系数W求导\n",
    "lr = 0.01\n",
    "reg = 0.75\n",
    "prev_grad_w = np.zeros_like(ww)\n",
    "ww -=  lr * (x.T.dot(loss) + prev_grad_w * reg)\n",
    "prev_grad_w = ww\n",
    "\n",
    "print (\"\\n2.对权重系数W求导之后更新的W值的shape：\\n\" + str(prev_grad_w.shape))\n",
    "print (\"\\n对权重系数W求导之后更新的W：\\n\" + str(prev_grad_w))\n",
    "\n",
    "# 3.对偏置系数b求导\n",
    "prev_grad_b = np.zeros_like(bb)\n",
    "bb -= lr * (np.sum(loss, axis=0))\n",
    "prev_grad_b = bb\n",
    "\n",
    "print (\"\\n3.对偏置系数b求导之后更新的b值的shape：\\n\" + str(prev_grad_b.shape))\n",
    "print (\"\\n对偏置系数b求导之后更新的b：\\n\" + str(prev_grad_b))"
   ]
  },
  {
   "cell_type": "markdown",
   "metadata": {},
   "source": [
    "# 3.numpy 的flatten层：将每个batch里的每个channel按顺序按行展开"
   ]
  },
  {
   "cell_type": "code",
   "execution_count": 4,
   "metadata": {},
   "outputs": [
    {
     "name": "stdout",
     "output_type": "stream",
     "text": [
      "[[[[ 1  2]\n",
      "   [ 3  4]]\n",
      "\n",
      "  [[ 5  6]\n",
      "   [ 7  8]]\n",
      "\n",
      "  [[ 9 10]\n",
      "   [11 12]]]\n",
      "\n",
      "\n",
      " [[[13 14]\n",
      "   [15 16]]\n",
      "\n",
      "  [[17 18]\n",
      "   [19 20]]\n",
      "\n",
      "  [[21 22]\n",
      "   [23 24]]]]\n",
      "[[ 1  2  3  4  5  6  7  8  9 10 11 12]\n",
      " [13 14 15 16 17 18 19 20 21 22 23 24]]\n"
     ]
    }
   ],
   "source": [
    "# numpy 的flatten层：将每个batch里的每个channel安顺序按行展开\n",
    "import numpy as np\n",
    "q = np.arange(1,25,1).reshape(2,3,2,2)\n",
    "print (q)\n",
    "print (q.reshape(2,3*2*2))"
   ]
  },
  {
   "cell_type": "code",
   "execution_count": 5,
   "metadata": {},
   "outputs": [
    {
     "name": "stdout",
     "output_type": "stream",
     "text": [
      "[[ 0.   0.1  0.2  0.3  0.4]\n",
      " [ 0.5  0.6  0.7  0.8  0.9]]\n",
      "[[ 5.  5.  5.  5.  5.]\n",
      " [ 5.  5.  5.  5.  5.]]\n",
      "[[False  True  True  True  True]\n",
      " [ True  True  True  True  True]]\n",
      "[[ 0.  5.  5.  5.  5.]\n",
      " [ 5.  5.  5.  5.  5.]]\n"
     ]
    }
   ],
   "source": [
    "import numpy as np\n",
    "cc = np.arange(0,1,0.1).reshape(2,5)\n",
    "dd = np.ones(10).reshape(2,5)*5\n",
    "print (cc)\n",
    "print (dd)\n",
    "print (cc>0)\n",
    "print ((cc>0)*dd)"
   ]
  },
  {
   "cell_type": "code",
   "execution_count": 7,
   "metadata": {},
   "outputs": [
    {
     "data": {
      "text/plain": [
       "array([ 0.,  0.,  0.,  0.,  0.,  0.,  0.,  0.,  0.,  0.])"
      ]
     },
     "execution_count": 7,
     "metadata": {},
     "output_type": "execute_result"
    }
   ],
   "source": []
  },
  {
   "cell_type": "code",
   "execution_count": null,
   "metadata": {},
   "outputs": [],
   "source": []
  },
  {
   "cell_type": "code",
   "execution_count": null,
   "metadata": {},
   "outputs": [],
   "source": []
  }
 ],
 "metadata": {
  "kernelspec": {
   "display_name": "Python 3",
   "language": "python",
   "name": "python3"
  },
  "language_info": {
   "codemirror_mode": {
    "name": "ipython",
    "version": 3
   },
   "file_extension": ".py",
   "mimetype": "text/x-python",
   "name": "python",
   "nbconvert_exporter": "python",
   "pygments_lexer": "ipython3",
   "version": "3.6.6"
  }
 },
 "nbformat": 4,
 "nbformat_minor": 2
}
